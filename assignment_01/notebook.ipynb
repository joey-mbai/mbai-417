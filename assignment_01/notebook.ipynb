{
  "cells": [
    {
      "cell_type": "markdown",
      "metadata": {
        "id": "8-8gP3sP_a_T"
      },
      "source": [
        "# Homework 1: Promoting Evening Products to Drive Incremental Revenue at Instacart\n",
        "\n",
        "  "
      ]
    },
    {
      "cell_type": "markdown",
      "metadata": {
        "id": "ng63IUXNVTk7"
      },
      "source": [
        "Your team has been brought to work with the merchandising team at Instacart.  The problem: early evening hours have delivery / driver availability but the number of orders falls off in the evening hours.  \n",
        "&nbsp;   \n",
        "We need to determine which products are being sold in the evening 6PM+ (18-23 in order_hour_of_day) hours so that the team can create new promotions.  To avoid developing a list of niche products we'd like to restrict our analysis to products that are ordered at least 5000 times.    \n",
        "&nbsp;  \n",
        "The merchandising team has the option of sending out emails or featuring products to shoppers on site, which do you recommend will be more effective in meeting the goal.  Feel free to call out additional data that would be helpful in evaluating the opportunity.  \n",
        "&nbsp;  \n",
        "All the data you need is stored in the redshift database.  Please update the code in each code cell to build to the final list of products.  \n",
        "&nbsp;  \n",
        "In the last markdown cell, please discuss your key findings and what next steps and data should be gathered in order to determine how the team should proceed to evaluate the opportunity.  \n",
        "&nbsp;  \n",
        "Please limit your analysis to 250 words.  "
      ]
    },
    {
      "cell_type": "markdown",
      "metadata": {
        "id": "pgf4xRFXJLUw"
      },
      "source": [
        "# Setting up the environment"
      ]
    },
    {
      "cell_type": "code",
      "execution_count": null,
      "metadata": {
        "id": "nqIJ3Za2_qfp"
      },
      "outputs": [],
      "source": [
        "#@title installs for sqlalchemy and sqlmagic\n",
        "!pip install sqlalchemy-redshift --quiet\n",
        "!pip install redshift_connector --quiet\n",
        "!pip install ipython-sql --quiet"
      ]
    },
    {
      "cell_type": "code",
      "execution_count": null,
      "metadata": {
        "id": "_jEoXXUi_a_V"
      },
      "outputs": [],
      "source": [
        "#@title standard imports - we'll use in most EDA\n",
        "import numpy as np\n",
        "import pandas as pd\n",
        "import matplotlib.pyplot as plt\n",
        "import plotly.express as px\n",
        "\n",
        "from datetime import datetime, timedelta\n",
        "from dateutil.parser import parse\n",
        "from google.colab import data_table\n",
        "data_table.enable_dataframe_formatter()"
      ]
    },
    {
      "cell_type": "code",
      "execution_count": null,
      "metadata": {
        "id": "mFZDaICS_a_W"
      },
      "outputs": [],
      "source": [
        "#@title setting up sql connection and sql magic, unique to this lab\n",
        "\n",
        "import getpass\n",
        "import sqlalchemy as sa\n",
        "from sqlalchemy.engine.url import URL\n",
        "from sqlalchemy import orm as sa_orm\n",
        "\n",
        "connect_to_db = URL.create(\n",
        "drivername='redshift+redshift_connector',     \n",
        "host='mbai417-redshift.cuvtmrb8eogw.us-west-2.redshift.amazonaws.com',     \n",
        "port=5439,  \n",
        "database='dev',  \n",
        "username='ro_user',         #username should not be hard coded either\n",
        "password=getpass.getpass()  #please don't put passwords into code\n",
        ")\n",
        "\n",
        "engine = sa.create_engine(connect_to_db)\n",
        "%reload_ext sql\n",
        "%sql $connect_to_db"
      ]
    },
    {
      "cell_type": "markdown",
      "metadata": {
        "id": "6_YzoHvnMWm0"
      },
      "source": [
        "# Determining evening products"
      ]
    },
    {
      "cell_type": "markdown",
      "metadata": {
        "id": "hpFKVG7gNOFI"
      },
      "source": [
        "## Show the number of orders by hour of day"
      ]
    },
    {
      "cell_type": "code",
      "execution_count": null,
      "metadata": {
        "id": "upzOVAMlNF93"
      },
      "outputs": [],
      "source": [
        "%%sql\n"
      ]
    },
    {
      "cell_type": "markdown",
      "metadata": {
        "id": "ySxWYUYaOYke"
      },
      "source": [
        "## Determine the number of products ordered by hour of day\n"
      ]
    },
    {
      "cell_type": "code",
      "execution_count": null,
      "metadata": {
        "id": "m3pbTTLKOXC6"
      },
      "outputs": [],
      "source": [
        "%%sql\n",
        "\n"
      ]
    },
    {
      "cell_type": "markdown",
      "metadata": {
        "id": "jXL87JPIVsK3"
      },
      "source": [
        "## Calculate the basket size (# products / # orders) by hour of day"
      ]
    },
    {
      "cell_type": "code",
      "execution_count": null,
      "metadata": {
        "id": "1ADn99oRNM9Z"
      },
      "outputs": [],
      "source": [
        "%%sql \n",
        "\n",
        "\n"
      ]
    },
    {
      "cell_type": "markdown",
      "metadata": {
        "id": "s4zsTkdHY9NK"
      },
      "source": [
        "## Find the most commonly ordered products"
      ]
    },
    {
      "cell_type": "code",
      "execution_count": null,
      "metadata": {
        "id": "KWtm-CLxcakT"
      },
      "outputs": [],
      "source": [
        "%%sql\n",
        "\n"
      ]
    },
    {
      "cell_type": "markdown",
      "metadata": {
        "id": "9lVZj8TMXkNH"
      },
      "source": [
        "## Find the most commonly ordered products in the evening hours (18-23)"
      ]
    },
    {
      "cell_type": "code",
      "execution_count": null,
      "metadata": {
        "id": "EWknNJaYXrgA"
      },
      "outputs": [],
      "source": [
        "%%sql\n"
      ]
    },
    {
      "cell_type": "markdown",
      "metadata": {
        "id": "P0ktbP2hcJ5a"
      },
      "source": [
        "## Calculate products that have the highest percentage of sales in the evening hours"
      ]
    },
    {
      "cell_type": "code",
      "execution_count": null,
      "metadata": {
        "id": "37N0aYVYcqyk"
      },
      "outputs": [],
      "source": [
        "%%sql\n"
      ]
    },
    {
      "cell_type": "markdown",
      "metadata": {
        "id": "KSyb2cIyhANl"
      },
      "source": [
        "# Final analysis\n",
        "In the markdown cell below summarize your findings.  Which products have the highest proportion of sales in evening hours?  Should the merchandising team focus on email or on-site featuring to drive incremental orders.  What additional data would you collect to evaluate the opportunity? Please limit your response to 250 words (+/-)"
      ]
    },
    {
      "cell_type": "markdown",
      "metadata": {
        "id": "qUkI2M8hiIVm"
      },
      "source": [
        "Summary here"
      ]
    }
  ],
  "metadata": {
    "colab": {
      "name": "Homework Assignment 1.ipynb",
      "provenance": [],
      "toc_visible": true
    },
    "kernelspec": {
      "display_name": "Python 3",
      "name": "python3"
    },
    "language_info": {
      "name": "python"
    }
  },
  "nbformat": 4,
  "nbformat_minor": 0
}
